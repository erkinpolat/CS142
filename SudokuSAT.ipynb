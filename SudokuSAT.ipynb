{
  "nbformat": 4,
  "nbformat_minor": 0,
  "metadata": {
    "colab": {
      "name": "CS142 Final Project Code.ipynb",
      "provenance": []
    },
    "kernelspec": {
      "name": "python3",
      "display_name": "Python 3"
    }
  },
  "cells": [
    {
      "cell_type": "markdown",
      "metadata": {
        "id": "eAXFhZGpptoz",
        "colab_type": "text"
      },
      "source": [
        "# Reducing Sudoku to the SAT Problem\n",
        "### Erkin Polat"
      ]
    },
    {
      "cell_type": "code",
      "metadata": {
        "id": "5kbpigtykJL4",
        "colab_type": "code",
        "colab": {}
      },
      "source": [
        "import numpy as np"
      ],
      "execution_count": 0,
      "outputs": []
    },
    {
      "cell_type": "code",
      "metadata": {
        "id": "TmOw2BDokwAW",
        "colab_type": "code",
        "colab": {}
      },
      "source": [
        "#Creating an Empty Sudoku Puzzle Instance\n",
        "\n",
        "#n is the size of a small grid\n",
        "\n",
        "def Sudoku(n):\n",
        "    \n",
        "    #I first create an empty list where I will store the rows\n",
        "    sudoku=[]\n",
        "\n",
        "    #Looping within the range of the square of the small grid in both axes so that we get a square matrix\n",
        "    for i in range(1, n**2+1):\n",
        "        row=[]\n",
        "        for j in range(1, n**2+1):\n",
        "            \n",
        "            #In each row we record the indices of i and j (the loop starts from 1)\n",
        "            row.append('x_'+str(i)+str(j))\n",
        "        \n",
        "        #When a row is complete we add it to the sudoku list\n",
        "        sudoku.append(row)\n",
        "    \n",
        "    return sudoku"
      ],
      "execution_count": 0,
      "outputs": []
    },
    {
      "cell_type": "code",
      "metadata": {
        "id": "FWn1jE1wkyMv",
        "colab_type": "code",
        "colab": {}
      },
      "source": [
        "#Creating a 9x9 sudoku instance\n",
        "\n",
        "sudoku = Sudoku(3)"
      ],
      "execution_count": 0,
      "outputs": []
    },
    {
      "cell_type": "code",
      "metadata": {
        "id": "Hp8UqvAzkz4U",
        "colab_type": "code",
        "colab": {
          "base_uri": "https://localhost:8080/",
          "height": 170
        },
        "outputId": "775ef8db-740f-4613-c74f-1e327647063e"
      },
      "source": [
        "Sudoku(3)"
      ],
      "execution_count": 11,
      "outputs": [
        {
          "output_type": "execute_result",
          "data": {
            "text/plain": [
              "[['x_11', 'x_12', 'x_13', 'x_14', 'x_15', 'x_16', 'x_17', 'x_18', 'x_19'],\n",
              " ['x_21', 'x_22', 'x_23', 'x_24', 'x_25', 'x_26', 'x_27', 'x_28', 'x_29'],\n",
              " ['x_31', 'x_32', 'x_33', 'x_34', 'x_35', 'x_36', 'x_37', 'x_38', 'x_39'],\n",
              " ['x_41', 'x_42', 'x_43', 'x_44', 'x_45', 'x_46', 'x_47', 'x_48', 'x_49'],\n",
              " ['x_51', 'x_52', 'x_53', 'x_54', 'x_55', 'x_56', 'x_57', 'x_58', 'x_59'],\n",
              " ['x_61', 'x_62', 'x_63', 'x_64', 'x_65', 'x_66', 'x_67', 'x_68', 'x_69'],\n",
              " ['x_71', 'x_72', 'x_73', 'x_74', 'x_75', 'x_76', 'x_77', 'x_78', 'x_79'],\n",
              " ['x_81', 'x_82', 'x_83', 'x_84', 'x_85', 'x_86', 'x_87', 'x_88', 'x_89'],\n",
              " ['x_91', 'x_92', 'x_93', 'x_94', 'x_95', 'x_96', 'x_97', 'x_98', 'x_99']]"
            ]
          },
          "metadata": {
            "tags": []
          },
          "execution_count": 11
        }
      ]
    },
    {
      "cell_type": "code",
      "metadata": {
        "id": "EQJtGxosk1c0",
        "colab_type": "code",
        "colab": {}
      },
      "source": [
        "#Implementing the valid function\n",
        "\n",
        "#Takes in a 1-d list\n",
        "def valid(A):\n",
        "    statement=''\n",
        "    \n",
        "    #We llop the list twice for the two logical loops in the function formula\n",
        "    \n",
        "    #Looping for different values in the list\n",
        "    for i in range(len(A)):\n",
        "        substatement='('\n",
        "        \n",
        "        #Looping for different vales each element in the list can take\n",
        "        for j in range(len(A)):\n",
        "            \n",
        "            #An instance of a boolean formula is created\n",
        "            substatement += '(' + A[j] + '='+ str(i+1) + ')'\n",
        "            \n",
        "            #An or clause is added unless it is the last loop\n",
        "            if j < len(A)-1:\n",
        "                substatement += ' or '\n",
        "        substatement += ')'\n",
        "        \n",
        "        #An and caluse is added unless it is the last loop\n",
        "        if i < len(A)-1:\n",
        "                substatement += ' and '\n",
        "        #We end up having a string of length nxn, where n is the input length\n",
        "        statement += substatement\n",
        "    \n",
        "    return statement"
      ],
      "execution_count": 0,
      "outputs": []
    },
    {
      "cell_type": "code",
      "metadata": {
        "id": "9htnBLK1k5Ys",
        "colab_type": "code",
        "colab": {
          "base_uri": "https://localhost:8080/",
          "height": 54
        },
        "outputId": "1c45acb8-a0bf-4f8a-f0f0-2257c150937d"
      },
      "source": [
        "#Test example\n",
        "\n",
        "valid(['x_11', 'x_12', 'x_13', 'x_14', 'x_15', 'x_16', 'x_17', 'x_18', 'x_19'])"
      ],
      "execution_count": 13,
      "outputs": [
        {
          "output_type": "execute_result",
          "data": {
            "text/plain": [
              "'((x_11=1) or (x_12=1) or (x_13=1) or (x_14=1) or (x_15=1) or (x_16=1) or (x_17=1) or (x_18=1) or (x_19=1)) and ((x_11=2) or (x_12=2) or (x_13=2) or (x_14=2) or (x_15=2) or (x_16=2) or (x_17=2) or (x_18=2) or (x_19=2)) and ((x_11=3) or (x_12=3) or (x_13=3) or (x_14=3) or (x_15=3) or (x_16=3) or (x_17=3) or (x_18=3) or (x_19=3)) and ((x_11=4) or (x_12=4) or (x_13=4) or (x_14=4) or (x_15=4) or (x_16=4) or (x_17=4) or (x_18=4) or (x_19=4)) and ((x_11=5) or (x_12=5) or (x_13=5) or (x_14=5) or (x_15=5) or (x_16=5) or (x_17=5) or (x_18=5) or (x_19=5)) and ((x_11=6) or (x_12=6) or (x_13=6) or (x_14=6) or (x_15=6) or (x_16=6) or (x_17=6) or (x_18=6) or (x_19=6)) and ((x_11=7) or (x_12=7) or (x_13=7) or (x_14=7) or (x_15=7) or (x_16=7) or (x_17=7) or (x_18=7) or (x_19=7)) and ((x_11=8) or (x_12=8) or (x_13=8) or (x_14=8) or (x_15=8) or (x_16=8) or (x_17=8) or (x_18=8) or (x_19=8)) and ((x_11=9) or (x_12=9) or (x_13=9) or (x_14=9) or (x_15=9) or (x_16=9) or (x_17=9) or (x_18=9) or (x_19=9))'"
            ]
          },
          "metadata": {
            "tags": []
          },
          "execution_count": 13
        }
      ]
    },
    {
      "cell_type": "code",
      "metadata": {
        "id": "ArZ92eTfk7-C",
        "colab_type": "code",
        "colab": {}
      },
      "source": [
        "#This is the function that computes the valid function among rows, columns and small grids and writes them in the form of a formula\n",
        "\n",
        "#The input has to be a sudoke board (square matrix that has a perfect square rows and columns)\n",
        "def Sudoku_Reducer(A):\n",
        "    #First checking the rows\n",
        "    \n",
        "    row = '('\n",
        "    for i in range(len(A)):\n",
        "        \n",
        "        #Valid function is run on the rows\n",
        "        row += valid(A[:][i])\n",
        "        \n",
        "        #The terms are seperated by an and clause unless it is the end of the loop\n",
        "        if i < len(A)-1:\n",
        "                row += ' and '\n",
        "    row += ')'\n",
        "    \n",
        "    #Doing the same but this time for rows\n",
        "    column = '('\n",
        "    for i in range(len(A)):\n",
        "        row += valid(A[i][:])\n",
        "        if i < len(A)-1:\n",
        "                row += ' and '\n",
        "    column += ')'\n",
        "    \n",
        "    #Here it gets a bit complicated, I had to experiment a lot to come up with the right indices and a generalization to any sized input\n",
        "    #(The formula I included in my paper was specific to a regular sudoku board)\n",
        "    \n",
        "    small_grid = ''\n",
        "    \n",
        "    #For both i and j we loop through the whole range of the matrix's dimensions, but every time incrementing by the square root of the dimensions\n",
        "    #This allows us to land on the start of a different small grid in every iteration\n",
        "    for i in range(0, len(A), int(np.sqrt(len(A)))):\n",
        "        for j in range(0, len(A), int(np.sqrt(len(A)))):\n",
        "            \n",
        "            #We form a list because the valid function accepts a list of strings\n",
        "            small=[]\n",
        "            \n",
        "            #We have m and k that are added to i and j. They are in the range of the square root of the dimensions. \n",
        "            #This allows us to start from the beginning of one square and end up in the next square\n",
        "            for m in range(int(np.sqrt(len(A)))):\n",
        "                for k in range(int(np.sqrt(len(A)))):\n",
        "                    \n",
        "                    #We append the corresponding strings to the list\n",
        "                    small.append(A[i+m][j+k])\n",
        "            \n",
        "            #We run the valid function on the list\n",
        "            small_grid += valid(small)\n",
        "            \n",
        "            #We only don't want an an clause when both i and j are at their last loop\n",
        "            if i != len(A)-np.sqrt(len(A)) and j != len(A)-np.sqrt(len(A)):\n",
        "                small_grid += ' and '\n",
        "    \n",
        "    #We return the concatenated string\n",
        "    return '(' + row + ' and ' + column + ' and ' + small_grid + ')'"
      ],
      "execution_count": 0,
      "outputs": []
    },
    {
      "cell_type": "code",
      "metadata": {
        "id": "LeTPEQHBlDIS",
        "colab_type": "code",
        "colab": {
          "base_uri": "https://localhost:8080/",
          "height": 54
        },
        "outputId": "065ebdc7-e2e0-466f-a35c-747230565a73"
      },
      "source": [
        "#Illustrating how it works on a regular sudoku instance - We get the full SAT formula for the sudoku puzzle\n",
        "\n",
        "Sudoku_Reducer(sudoku)"
      ],
      "execution_count": 15,
      "outputs": [
        {
          "output_type": "execute_result",
          "data": {
            "text/plain": [
              "'((((x_11=1) or (x_12=1) or (x_13=1) or (x_14=1) or (x_15=1) or (x_16=1) or (x_17=1) or (x_18=1) or (x_19=1)) and ((x_11=2) or (x_12=2) or (x_13=2) or (x_14=2) or (x_15=2) or (x_16=2) or (x_17=2) or (x_18=2) or (x_19=2)) and ((x_11=3) or (x_12=3) or (x_13=3) or (x_14=3) or (x_15=3) or (x_16=3) or (x_17=3) or (x_18=3) or (x_19=3)) and ((x_11=4) or (x_12=4) or (x_13=4) or (x_14=4) or (x_15=4) or (x_16=4) or (x_17=4) or (x_18=4) or (x_19=4)) and ((x_11=5) or (x_12=5) or (x_13=5) or (x_14=5) or (x_15=5) or (x_16=5) or (x_17=5) or (x_18=5) or (x_19=5)) and ((x_11=6) or (x_12=6) or (x_13=6) or (x_14=6) or (x_15=6) or (x_16=6) or (x_17=6) or (x_18=6) or (x_19=6)) and ((x_11=7) or (x_12=7) or (x_13=7) or (x_14=7) or (x_15=7) or (x_16=7) or (x_17=7) or (x_18=7) or (x_19=7)) and ((x_11=8) or (x_12=8) or (x_13=8) or (x_14=8) or (x_15=8) or (x_16=8) or (x_17=8) or (x_18=8) or (x_19=8)) and ((x_11=9) or (x_12=9) or (x_13=9) or (x_14=9) or (x_15=9) or (x_16=9) or (x_17=9) or (x_18=9) or (x_19=9)) and ((x_21=1) or (x_22=1) or (x_23=1) or (x_24=1) or (x_25=1) or (x_26=1) or (x_27=1) or (x_28=1) or (x_29=1)) and ((x_21=2) or (x_22=2) or (x_23=2) or (x_24=2) or (x_25=2) or (x_26=2) or (x_27=2) or (x_28=2) or (x_29=2)) and ((x_21=3) or (x_22=3) or (x_23=3) or (x_24=3) or (x_25=3) or (x_26=3) or (x_27=3) or (x_28=3) or (x_29=3)) and ((x_21=4) or (x_22=4) or (x_23=4) or (x_24=4) or (x_25=4) or (x_26=4) or (x_27=4) or (x_28=4) or (x_29=4)) and ((x_21=5) or (x_22=5) or (x_23=5) or (x_24=5) or (x_25=5) or (x_26=5) or (x_27=5) or (x_28=5) or (x_29=5)) and ((x_21=6) or (x_22=6) or (x_23=6) or (x_24=6) or (x_25=6) or (x_26=6) or (x_27=6) or (x_28=6) or (x_29=6)) and ((x_21=7) or (x_22=7) or (x_23=7) or (x_24=7) or (x_25=7) or (x_26=7) or (x_27=7) or (x_28=7) or (x_29=7)) and ((x_21=8) or (x_22=8) or (x_23=8) or (x_24=8) or (x_25=8) or (x_26=8) or (x_27=8) or (x_28=8) or (x_29=8)) and ((x_21=9) or (x_22=9) or (x_23=9) or (x_24=9) or (x_25=9) or (x_26=9) or (x_27=9) or (x_28=9) or (x_29=9)) and ((x_31=1) or (x_32=1) or (x_33=1) or (x_34=1) or (x_35=1) or (x_36=1) or (x_37=1) or (x_38=1) or (x_39=1)) and ((x_31=2) or (x_32=2) or (x_33=2) or (x_34=2) or (x_35=2) or (x_36=2) or (x_37=2) or (x_38=2) or (x_39=2)) and ((x_31=3) or (x_32=3) or (x_33=3) or (x_34=3) or (x_35=3) or (x_36=3) or (x_37=3) or (x_38=3) or (x_39=3)) and ((x_31=4) or (x_32=4) or (x_33=4) or (x_34=4) or (x_35=4) or (x_36=4) or (x_37=4) or (x_38=4) or (x_39=4)) and ((x_31=5) or (x_32=5) or (x_33=5) or (x_34=5) or (x_35=5) or (x_36=5) or (x_37=5) or (x_38=5) or (x_39=5)) and ((x_31=6) or (x_32=6) or (x_33=6) or (x_34=6) or (x_35=6) or (x_36=6) or (x_37=6) or (x_38=6) or (x_39=6)) and ((x_31=7) or (x_32=7) or (x_33=7) or (x_34=7) or (x_35=7) or (x_36=7) or (x_37=7) or (x_38=7) or (x_39=7)) and ((x_31=8) or (x_32=8) or (x_33=8) or (x_34=8) or (x_35=8) or (x_36=8) or (x_37=8) or (x_38=8) or (x_39=8)) and ((x_31=9) or (x_32=9) or (x_33=9) or (x_34=9) or (x_35=9) or (x_36=9) or (x_37=9) or (x_38=9) or (x_39=9)) and ((x_41=1) or (x_42=1) or (x_43=1) or (x_44=1) or (x_45=1) or (x_46=1) or (x_47=1) or (x_48=1) or (x_49=1)) and ((x_41=2) or (x_42=2) or (x_43=2) or (x_44=2) or (x_45=2) or (x_46=2) or (x_47=2) or (x_48=2) or (x_49=2)) and ((x_41=3) or (x_42=3) or (x_43=3) or (x_44=3) or (x_45=3) or (x_46=3) or (x_47=3) or (x_48=3) or (x_49=3)) and ((x_41=4) or (x_42=4) or (x_43=4) or (x_44=4) or (x_45=4) or (x_46=4) or (x_47=4) or (x_48=4) or (x_49=4)) and ((x_41=5) or (x_42=5) or (x_43=5) or (x_44=5) or (x_45=5) or (x_46=5) or (x_47=5) or (x_48=5) or (x_49=5)) and ((x_41=6) or (x_42=6) or (x_43=6) or (x_44=6) or (x_45=6) or (x_46=6) or (x_47=6) or (x_48=6) or (x_49=6)) and ((x_41=7) or (x_42=7) or (x_43=7) or (x_44=7) or (x_45=7) or (x_46=7) or (x_47=7) or (x_48=7) or (x_49=7)) and ((x_41=8) or (x_42=8) or (x_43=8) or (x_44=8) or (x_45=8) or (x_46=8) or (x_47=8) or (x_48=8) or (x_49=8)) and ((x_41=9) or (x_42=9) or (x_43=9) or (x_44=9) or (x_45=9) or (x_46=9) or (x_47=9) or (x_48=9) or (x_49=9)) and ((x_51=1) or (x_52=1) or (x_53=1) or (x_54=1) or (x_55=1) or (x_56=1) or (x_57=1) or (x_58=1) or (x_59=1)) and ((x_51=2) or (x_52=2) or (x_53=2) or (x_54=2) or (x_55=2) or (x_56=2) or (x_57=2) or (x_58=2) or (x_59=2)) and ((x_51=3) or (x_52=3) or (x_53=3) or (x_54=3) or (x_55=3) or (x_56=3) or (x_57=3) or (x_58=3) or (x_59=3)) and ((x_51=4) or (x_52=4) or (x_53=4) or (x_54=4) or (x_55=4) or (x_56=4) or (x_57=4) or (x_58=4) or (x_59=4)) and ((x_51=5) or (x_52=5) or (x_53=5) or (x_54=5) or (x_55=5) or (x_56=5) or (x_57=5) or (x_58=5) or (x_59=5)) and ((x_51=6) or (x_52=6) or (x_53=6) or (x_54=6) or (x_55=6) or (x_56=6) or (x_57=6) or (x_58=6) or (x_59=6)) and ((x_51=7) or (x_52=7) or (x_53=7) or (x_54=7) or (x_55=7) or (x_56=7) or (x_57=7) or (x_58=7) or (x_59=7)) and ((x_51=8) or (x_52=8) or (x_53=8) or (x_54=8) or (x_55=8) or (x_56=8) or (x_57=8) or (x_58=8) or (x_59=8)) and ((x_51=9) or (x_52=9) or (x_53=9) or (x_54=9) or (x_55=9) or (x_56=9) or (x_57=9) or (x_58=9) or (x_59=9)) and ((x_61=1) or (x_62=1) or (x_63=1) or (x_64=1) or (x_65=1) or (x_66=1) or (x_67=1) or (x_68=1) or (x_69=1)) and ((x_61=2) or (x_62=2) or (x_63=2) or (x_64=2) or (x_65=2) or (x_66=2) or (x_67=2) or (x_68=2) or (x_69=2)) and ((x_61=3) or (x_62=3) or (x_63=3) or (x_64=3) or (x_65=3) or (x_66=3) or (x_67=3) or (x_68=3) or (x_69=3)) and ((x_61=4) or (x_62=4) or (x_63=4) or (x_64=4) or (x_65=4) or (x_66=4) or (x_67=4) or (x_68=4) or (x_69=4)) and ((x_61=5) or (x_62=5) or (x_63=5) or (x_64=5) or (x_65=5) or (x_66=5) or (x_67=5) or (x_68=5) or (x_69=5)) and ((x_61=6) or (x_62=6) or (x_63=6) or (x_64=6) or (x_65=6) or (x_66=6) or (x_67=6) or (x_68=6) or (x_69=6)) and ((x_61=7) or (x_62=7) or (x_63=7) or (x_64=7) or (x_65=7) or (x_66=7) or (x_67=7) or (x_68=7) or (x_69=7)) and ((x_61=8) or (x_62=8) or (x_63=8) or (x_64=8) or (x_65=8) or (x_66=8) or (x_67=8) or (x_68=8) or (x_69=8)) and ((x_61=9) or (x_62=9) or (x_63=9) or (x_64=9) or (x_65=9) or (x_66=9) or (x_67=9) or (x_68=9) or (x_69=9)) and ((x_71=1) or (x_72=1) or (x_73=1) or (x_74=1) or (x_75=1) or (x_76=1) or (x_77=1) or (x_78=1) or (x_79=1)) and ((x_71=2) or (x_72=2) or (x_73=2) or (x_74=2) or (x_75=2) or (x_76=2) or (x_77=2) or (x_78=2) or (x_79=2)) and ((x_71=3) or (x_72=3) or (x_73=3) or (x_74=3) or (x_75=3) or (x_76=3) or (x_77=3) or (x_78=3) or (x_79=3)) and ((x_71=4) or (x_72=4) or (x_73=4) or (x_74=4) or (x_75=4) or (x_76=4) or (x_77=4) or (x_78=4) or (x_79=4)) and ((x_71=5) or (x_72=5) or (x_73=5) or (x_74=5) or (x_75=5) or (x_76=5) or (x_77=5) or (x_78=5) or (x_79=5)) and ((x_71=6) or (x_72=6) or (x_73=6) or (x_74=6) or (x_75=6) or (x_76=6) or (x_77=6) or (x_78=6) or (x_79=6)) and ((x_71=7) or (x_72=7) or (x_73=7) or (x_74=7) or (x_75=7) or (x_76=7) or (x_77=7) or (x_78=7) or (x_79=7)) and ((x_71=8) or (x_72=8) or (x_73=8) or (x_74=8) or (x_75=8) or (x_76=8) or (x_77=8) or (x_78=8) or (x_79=8)) and ((x_71=9) or (x_72=9) or (x_73=9) or (x_74=9) or (x_75=9) or (x_76=9) or (x_77=9) or (x_78=9) or (x_79=9)) and ((x_81=1) or (x_82=1) or (x_83=1) or (x_84=1) or (x_85=1) or (x_86=1) or (x_87=1) or (x_88=1) or (x_89=1)) and ((x_81=2) or (x_82=2) or (x_83=2) or (x_84=2) or (x_85=2) or (x_86=2) or (x_87=2) or (x_88=2) or (x_89=2)) and ((x_81=3) or (x_82=3) or (x_83=3) or (x_84=3) or (x_85=3) or (x_86=3) or (x_87=3) or (x_88=3) or (x_89=3)) and ((x_81=4) or (x_82=4) or (x_83=4) or (x_84=4) or (x_85=4) or (x_86=4) or (x_87=4) or (x_88=4) or (x_89=4)) and ((x_81=5) or (x_82=5) or (x_83=5) or (x_84=5) or (x_85=5) or (x_86=5) or (x_87=5) or (x_88=5) or (x_89=5)) and ((x_81=6) or (x_82=6) or (x_83=6) or (x_84=6) or (x_85=6) or (x_86=6) or (x_87=6) or (x_88=6) or (x_89=6)) and ((x_81=7) or (x_82=7) or (x_83=7) or (x_84=7) or (x_85=7) or (x_86=7) or (x_87=7) or (x_88=7) or (x_89=7)) and ((x_81=8) or (x_82=8) or (x_83=8) or (x_84=8) or (x_85=8) or (x_86=8) or (x_87=8) or (x_88=8) or (x_89=8)) and ((x_81=9) or (x_82=9) or (x_83=9) or (x_84=9) or (x_85=9) or (x_86=9) or (x_87=9) or (x_88=9) or (x_89=9)) and ((x_91=1) or (x_92=1) or (x_93=1) or (x_94=1) or (x_95=1) or (x_96=1) or (x_97=1) or (x_98=1) or (x_99=1)) and ((x_91=2) or (x_92=2) or (x_93=2) or (x_94=2) or (x_95=2) or (x_96=2) or (x_97=2) or (x_98=2) or (x_99=2)) and ((x_91=3) or (x_92=3) or (x_93=3) or (x_94=3) or (x_95=3) or (x_96=3) or (x_97=3) or (x_98=3) or (x_99=3)) and ((x_91=4) or (x_92=4) or (x_93=4) or (x_94=4) or (x_95=4) or (x_96=4) or (x_97=4) or (x_98=4) or (x_99=4)) and ((x_91=5) or (x_92=5) or (x_93=5) or (x_94=5) or (x_95=5) or (x_96=5) or (x_97=5) or (x_98=5) or (x_99=5)) and ((x_91=6) or (x_92=6) or (x_93=6) or (x_94=6) or (x_95=6) or (x_96=6) or (x_97=6) or (x_98=6) or (x_99=6)) and ((x_91=7) or (x_92=7) or (x_93=7) or (x_94=7) or (x_95=7) or (x_96=7) or (x_97=7) or (x_98=7) or (x_99=7)) and ((x_91=8) or (x_92=8) or (x_93=8) or (x_94=8) or (x_95=8) or (x_96=8) or (x_97=8) or (x_98=8) or (x_99=8)) and ((x_91=9) or (x_92=9) or (x_93=9) or (x_94=9) or (x_95=9) or (x_96=9) or (x_97=9) or (x_98=9) or (x_99=9)))((x_11=1) or (x_12=1) or (x_13=1) or (x_14=1) or (x_15=1) or (x_16=1) or (x_17=1) or (x_18=1) or (x_19=1)) and ((x_11=2) or (x_12=2) or (x_13=2) or (x_14=2) or (x_15=2) or (x_16=2) or (x_17=2) or (x_18=2) or (x_19=2)) and ((x_11=3) or (x_12=3) or (x_13=3) or (x_14=3) or (x_15=3) or (x_16=3) or (x_17=3) or (x_18=3) or (x_19=3)) and ((x_11=4) or (x_12=4) or (x_13=4) or (x_14=4) or (x_15=4) or (x_16=4) or (x_17=4) or (x_18=4) or (x_19=4)) and ((x_11=5) or (x_12=5) or (x_13=5) or (x_14=5) or (x_15=5) or (x_16=5) or (x_17=5) or (x_18=5) or (x_19=5)) and ((x_11=6) or (x_12=6) or (x_13=6) or (x_14=6) or (x_15=6) or (x_16=6) or (x_17=6) or (x_18=6) or (x_19=6)) and ((x_11=7) or (x_12=7) or (x_13=7) or (x_14=7) or (x_15=7) or (x_16=7) or (x_17=7) or (x_18=7) or (x_19=7)) and ((x_11=8) or (x_12=8) or (x_13=8) or (x_14=8) or (x_15=8) or (x_16=8) or (x_17=8) or (x_18=8) or (x_19=8)) and ((x_11=9) or (x_12=9) or (x_13=9) or (x_14=9) or (x_15=9) or (x_16=9) or (x_17=9) or (x_18=9) or (x_19=9)) and ((x_21=1) or (x_22=1) or (x_23=1) or (x_24=1) or (x_25=1) or (x_26=1) or (x_27=1) or (x_28=1) or (x_29=1)) and ((x_21=2) or (x_22=2) or (x_23=2) or (x_24=2) or (x_25=2) or (x_26=2) or (x_27=2) or (x_28=2) or (x_29=2)) and ((x_21=3) or (x_22=3) or (x_23=3) or (x_24=3) or (x_25=3) or (x_26=3) or (x_27=3) or (x_28=3) or (x_29=3)) and ((x_21=4) or (x_22=4) or (x_23=4) or (x_24=4) or (x_25=4) or (x_26=4) or (x_27=4) or (x_28=4) or (x_29=4)) and ((x_21=5) or (x_22=5) or (x_23=5) or (x_24=5) or (x_25=5) or (x_26=5) or (x_27=5) or (x_28=5) or (x_29=5)) and ((x_21=6) or (x_22=6) or (x_23=6) or (x_24=6) or (x_25=6) or (x_26=6) or (x_27=6) or (x_28=6) or (x_29=6)) and ((x_21=7) or (x_22=7) or (x_23=7) or (x_24=7) or (x_25=7) or (x_26=7) or (x_27=7) or (x_28=7) or (x_29=7)) and ((x_21=8) or (x_22=8) or (x_23=8) or (x_24=8) or (x_25=8) or (x_26=8) or (x_27=8) or (x_28=8) or (x_29=8)) and ((x_21=9) or (x_22=9) or (x_23=9) or (x_24=9) or (x_25=9) or (x_26=9) or (x_27=9) or (x_28=9) or (x_29=9)) and ((x_31=1) or (x_32=1) or (x_33=1) or (x_34=1) or (x_35=1) or (x_36=1) or (x_37=1) or (x_38=1) or (x_39=1)) and ((x_31=2) or (x_32=2) or (x_33=2) or (x_34=2) or (x_35=2) or (x_36=2) or (x_37=2) or (x_38=2) or (x_39=2)) and ((x_31=3) or (x_32=3) or (x_33=3) or (x_34=3) or (x_35=3) or (x_36=3) or (x_37=3) or (x_38=3) or (x_39=3)) and ((x_31=4) or (x_32=4) or (x_33=4) or (x_34=4) or (x_35=4) or (x_36=4) or (x_37=4) or (x_38=4) or (x_39=4)) and ((x_31=5) or (x_32=5) or (x_33=5) or (x_34=5) or (x_35=5) or (x_36=5) or (x_37=5) or (x_38=5) or (x_39=5)) and ((x_31=6) or (x_32=6) or (x_33=6) or (x_34=6) or (x_35=6) or (x_36=6) or (x_37=6) or (x_38=6) or (x_39=6)) and ((x_31=7) or (x_32=7) or (x_33=7) or (x_34=7) or (x_35=7) or (x_36=7) or (x_37=7) or (x_38=7) or (x_39=7)) and ((x_31=8) or (x_32=8) or (x_33=8) or (x_34=8) or (x_35=8) or (x_36=8) or (x_37=8) or (x_38=8) or (x_39=8)) and ((x_31=9) or (x_32=9) or (x_33=9) or (x_34=9) or (x_35=9) or (x_36=9) or (x_37=9) or (x_38=9) or (x_39=9)) and ((x_41=1) or (x_42=1) or (x_43=1) or (x_44=1) or (x_45=1) or (x_46=1) or (x_47=1) or (x_48=1) or (x_49=1)) and ((x_41=2) or (x_42=2) or (x_43=2) or (x_44=2) or (x_45=2) or (x_46=2) or (x_47=2) or (x_48=2) or (x_49=2)) and ((x_41=3) or (x_42=3) or (x_43=3) or (x_44=3) or (x_45=3) or (x_46=3) or (x_47=3) or (x_48=3) or (x_49=3)) and ((x_41=4) or (x_42=4) or (x_43=4) or (x_44=4) or (x_45=4) or (x_46=4) or (x_47=4) or (x_48=4) or (x_49=4)) and ((x_41=5) or (x_42=5) or (x_43=5) or (x_44=5) or (x_45=5) or (x_46=5) or (x_47=5) or (x_48=5) or (x_49=5)) and ((x_41=6) or (x_42=6) or (x_43=6) or (x_44=6) or (x_45=6) or (x_46=6) or (x_47=6) or (x_48=6) or (x_49=6)) and ((x_41=7) or (x_42=7) or (x_43=7) or (x_44=7) or (x_45=7) or (x_46=7) or (x_47=7) or (x_48=7) or (x_49=7)) and ((x_41=8) or (x_42=8) or (x_43=8) or (x_44=8) or (x_45=8) or (x_46=8) or (x_47=8) or (x_48=8) or (x_49=8)) and ((x_41=9) or (x_42=9) or (x_43=9) or (x_44=9) or (x_45=9) or (x_46=9) or (x_47=9) or (x_48=9) or (x_49=9)) and ((x_51=1) or (x_52=1) or (x_53=1) or (x_54=1) or (x_55=1) or (x_56=1) or (x_57=1) or (x_58=1) or (x_59=1)) and ((x_51=2) or (x_52=2) or (x_53=2) or (x_54=2) or (x_55=2) or (x_56=2) or (x_57=2) or (x_58=2) or (x_59=2)) and ((x_51=3) or (x_52=3) or (x_53=3) or (x_54=3) or (x_55=3) or (x_56=3) or (x_57=3) or (x_58=3) or (x_59=3)) and ((x_51=4) or (x_52=4) or (x_53=4) or (x_54=4) or (x_55=4) or (x_56=4) or (x_57=4) or (x_58=4) or (x_59=4)) and ((x_51=5) or (x_52=5) or (x_53=5) or (x_54=5) or (x_55=5) or (x_56=5) or (x_57=5) or (x_58=5) or (x_59=5)) and ((x_51=6) or (x_52=6) or (x_53=6) or (x_54=6) or (x_55=6) or (x_56=6) or (x_57=6) or (x_58=6) or (x_59=6)) and ((x_51=7) or (x_52=7) or (x_53=7) or (x_54=7) or (x_55=7) or (x_56=7) or (x_57=7) or (x_58=7) or (x_59=7)) and ((x_51=8) or (x_52=8) or (x_53=8) or (x_54=8) or (x_55=8) or (x_56=8) or (x_57=8) or (x_58=8) or (x_59=8)) and ((x_51=9) or (x_52=9) or (x_53=9) or (x_54=9) or (x_55=9) or (x_56=9) or (x_57=9) or (x_58=9) or (x_59=9)) and ((x_61=1) or (x_62=1) or (x_63=1) or (x_64=1) or (x_65=1) or (x_66=1) or (x_67=1) or (x_68=1) or (x_69=1)) and ((x_61=2) or (x_62=2) or (x_63=2) or (x_64=2) or (x_65=2) or (x_66=2) or (x_67=2) or (x_68=2) or (x_69=2)) and ((x_61=3) or (x_62=3) or (x_63=3) or (x_64=3) or (x_65=3) or (x_66=3) or (x_67=3) or (x_68=3) or (x_69=3)) and ((x_61=4) or (x_62=4) or (x_63=4) or (x_64=4) or (x_65=4) or (x_66=4) or (x_67=4) or (x_68=4) or (x_69=4)) and ((x_61=5) or (x_62=5) or (x_63=5) or (x_64=5) or (x_65=5) or (x_66=5) or (x_67=5) or (x_68=5) or (x_69=5)) and ((x_61=6) or (x_62=6) or (x_63=6) or (x_64=6) or (x_65=6) or (x_66=6) or (x_67=6) or (x_68=6) or (x_69=6)) and ((x_61=7) or (x_62=7) or (x_63=7) or (x_64=7) or (x_65=7) or (x_66=7) or (x_67=7) or (x_68=7) or (x_69=7)) and ((x_61=8) or (x_62=8) or (x_63=8) or (x_64=8) or (x_65=8) or (x_66=8) or (x_67=8) or (x_68=8) or (x_69=8)) and ((x_61=9) or (x_62=9) or (x_63=9) or (x_64=9) or (x_65=9) or (x_66=9) or (x_67=9) or (x_68=9) or (x_69=9)) and ((x_71=1) or (x_72=1) or (x_73=1) or (x_74=1) or (x_75=1) or (x_76=1) or (x_77=1) or (x_78=1) or (x_79=1)) and ((x_71=2) or (x_72=2) or (x_73=2) or (x_74=2) or (x_75=2) or (x_76=2) or (x_77=2) or (x_78=2) or (x_79=2)) and ((x_71=3) or (x_72=3) or (x_73=3) or (x_74=3) or (x_75=3) or (x_76=3) or (x_77=3) or (x_78=3) or (x_79=3)) and ((x_71=4) or (x_72=4) or (x_73=4) or (x_74=4) or (x_75=4) or (x_76=4) or (x_77=4) or (x_78=4) or (x_79=4)) and ((x_71=5) or (x_72=5) or (x_73=5) or (x_74=5) or (x_75=5) or (x_76=5) or (x_77=5) or (x_78=5) or (x_79=5)) and ((x_71=6) or (x_72=6) or (x_73=6) or (x_74=6) or (x_75=6) or (x_76=6) or (x_77=6) or (x_78=6) or (x_79=6)) and ((x_71=7) or (x_72=7) or (x_73=7) or (x_74=7) or (x_75=7) or (x_76=7) or (x_77=7) or (x_78=7) or (x_79=7)) and ((x_71=8) or (x_72=8) or (x_73=8) or (x_74=8) or (x_75=8) or (x_76=8) or (x_77=8) or (x_78=8) or (x_79=8)) and ((x_71=9) or (x_72=9) or (x_73=9) or (x_74=9) or (x_75=9) or (x_76=9) or (x_77=9) or (x_78=9) or (x_79=9)) and ((x_81=1) or (x_82=1) or (x_83=1) or (x_84=1) or (x_85=1) or (x_86=1) or (x_87=1) or (x_88=1) or (x_89=1)) and ((x_81=2) or (x_82=2) or (x_83=2) or (x_84=2) or (x_85=2) or (x_86=2) or (x_87=2) or (x_88=2) or (x_89=2)) and ((x_81=3) or (x_82=3) or (x_83=3) or (x_84=3) or (x_85=3) or (x_86=3) or (x_87=3) or (x_88=3) or (x_89=3)) and ((x_81=4) or (x_82=4) or (x_83=4) or (x_84=4) or (x_85=4) or (x_86=4) or (x_87=4) or (x_88=4) or (x_89=4)) and ((x_81=5) or (x_82=5) or (x_83=5) or (x_84=5) or (x_85=5) or (x_86=5) or (x_87=5) or (x_88=5) or (x_89=5)) and ((x_81=6) or (x_82=6) or (x_83=6) or (x_84=6) or (x_85=6) or (x_86=6) or (x_87=6) or (x_88=6) or (x_89=6)) and ((x_81=7) or (x_82=7) or (x_83=7) or (x_84=7) or (x_85=7) or (x_86=7) or (x_87=7) or (x_88=7) or (x_89=7)) and ((x_81=8) or (x_82=8) or (x_83=8) or (x_84=8) or (x_85=8) or (x_86=8) or (x_87=8) or (x_88=8) or (x_89=8)) and ((x_81=9) or (x_82=9) or (x_83=9) or (x_84=9) or (x_85=9) or (x_86=9) or (x_87=9) or (x_88=9) or (x_89=9)) and ((x_91=1) or (x_92=1) or (x_93=1) or (x_94=1) or (x_95=1) or (x_96=1) or (x_97=1) or (x_98=1) or (x_99=1)) and ((x_91=2) or (x_92=2) or (x_93=2) or (x_94=2) or (x_95=2) or (x_96=2) or (x_97=2) or (x_98=2) or (x_99=2)) and ((x_91=3) or (x_92=3) or (x_93=3) or (x_94=3) or (x_95=3) or (x_96=3) or (x_97=3) or (x_98=3) or (x_99=3)) and ((x_91=4) or (x_92=4) or (x_93=4) or (x_94=4) or (x_95=4) or (x_96=4) or (x_97=4) or (x_98=4) or (x_99=4)) and ((x_91=5) or (x_92=5) or (x_93=5) or (x_94=5) or (x_95=5) or (x_96=5) or (x_97=5) or (x_98=5) or (x_99=5)) and ((x_91=6) or (x_92=6) or (x_93=6) or (x_94=6) or (x_95=6) or (x_96=6) or (x_97=6) or (x_98=6) or (x_99=6)) and ((x_91=7) or (x_92=7) or (x_93=7) or (x_94=7) or (x_95=7) or (x_96=7) or (x_97=7) or (x_98=7) or (x_99=7)) and ((x_91=8) or (x_92=8) or (x_93=8) or (x_94=8) or (x_95=8) or (x_96=8) or (x_97=8) or (x_98=8) or (x_99=8)) and ((x_91=9) or (x_92=9) or (x_93=9) or (x_94=9) or (x_95=9) or (x_96=9) or (x_97=9) or (x_98=9) or (x_99=9)) and () and ((x_11=1) or (x_12=1) or (x_13=1) or (x_21=1) or (x_22=1) or (x_23=1) or (x_31=1) or (x_32=1) or (x_33=1)) and ((x_11=2) or (x_12=2) or (x_13=2) or (x_21=2) or (x_22=2) or (x_23=2) or (x_31=2) or (x_32=2) or (x_33=2)) and ((x_11=3) or (x_12=3) or (x_13=3) or (x_21=3) or (x_22=3) or (x_23=3) or (x_31=3) or (x_32=3) or (x_33=3)) and ((x_11=4) or (x_12=4) or (x_13=4) or (x_21=4) or (x_22=4) or (x_23=4) or (x_31=4) or (x_32=4) or (x_33=4)) and ((x_11=5) or (x_12=5) or (x_13=5) or (x_21=5) or (x_22=5) or (x_23=5) or (x_31=5) or (x_32=5) or (x_33=5)) and ((x_11=6) or (x_12=6) or (x_13=6) or (x_21=6) or (x_22=6) or (x_23=6) or (x_31=6) or (x_32=6) or (x_33=6)) and ((x_11=7) or (x_12=7) or (x_13=7) or (x_21=7) or (x_22=7) or (x_23=7) or (x_31=7) or (x_32=7) or (x_33=7)) and ((x_11=8) or (x_12=8) or (x_13=8) or (x_21=8) or (x_22=8) or (x_23=8) or (x_31=8) or (x_32=8) or (x_33=8)) and ((x_11=9) or (x_12=9) or (x_13=9) or (x_21=9) or (x_22=9) or (x_23=9) or (x_31=9) or (x_32=9) or (x_33=9)) and ((x_14=1) or (x_15=1) or (x_16=1) or (x_24=1) or (x_25=1) or (x_26=1) or (x_34=1) or (x_35=1) or (x_36=1)) and ((x_14=2) or (x_15=2) or (x_16=2) or (x_24=2) or (x_25=2) or (x_26=2) or (x_34=2) or (x_35=2) or (x_36=2)) and ((x_14=3) or (x_15=3) or (x_16=3) or (x_24=3) or (x_25=3) or (x_26=3) or (x_34=3) or (x_35=3) or (x_36=3)) and ((x_14=4) or (x_15=4) or (x_16=4) or (x_24=4) or (x_25=4) or (x_26=4) or (x_34=4) or (x_35=4) or (x_36=4)) and ((x_14=5) or (x_15=5) or (x_16=5) or (x_24=5) or (x_25=5) or (x_26=5) or (x_34=5) or (x_35=5) or (x_36=5)) and ((x_14=6) or (x_15=6) or (x_16=6) or (x_24=6) or (x_25=6) or (x_26=6) or (x_34=6) or (x_35=6) or (x_36=6)) and ((x_14=7) or (x_15=7) or (x_16=7) or (x_24=7) or (x_25=7) or (x_26=7) or (x_34=7) or (x_35=7) or (x_36=7)) and ((x_14=8) or (x_15=8) or (x_16=8) or (x_24=8) or (x_25=8) or (x_26=8) or (x_34=8) or (x_35=8) or (x_36=8)) and ((x_14=9) or (x_15=9) or (x_16=9) or (x_24=9) or (x_25=9) or (x_26=9) or (x_34=9) or (x_35=9) or (x_36=9)) and ((x_17=1) or (x_18=1) or (x_19=1) or (x_27=1) or (x_28=1) or (x_29=1) or (x_37=1) or (x_38=1) or (x_39=1)) and ((x_17=2) or (x_18=2) or (x_19=2) or (x_27=2) or (x_28=2) or (x_29=2) or (x_37=2) or (x_38=2) or (x_39=2)) and ((x_17=3) or (x_18=3) or (x_19=3) or (x_27=3) or (x_28=3) or (x_29=3) or (x_37=3) or (x_38=3) or (x_39=3)) and ((x_17=4) or (x_18=4) or (x_19=4) or (x_27=4) or (x_28=4) or (x_29=4) or (x_37=4) or (x_38=4) or (x_39=4)) and ((x_17=5) or (x_18=5) or (x_19=5) or (x_27=5) or (x_28=5) or (x_29=5) or (x_37=5) or (x_38=5) or (x_39=5)) and ((x_17=6) or (x_18=6) or (x_19=6) or (x_27=6) or (x_28=6) or (x_29=6) or (x_37=6) or (x_38=6) or (x_39=6)) and ((x_17=7) or (x_18=7) or (x_19=7) or (x_27=7) or (x_28=7) or (x_29=7) or (x_37=7) or (x_38=7) or (x_39=7)) and ((x_17=8) or (x_18=8) or (x_19=8) or (x_27=8) or (x_28=8) or (x_29=8) or (x_37=8) or (x_38=8) or (x_39=8)) and ((x_17=9) or (x_18=9) or (x_19=9) or (x_27=9) or (x_28=9) or (x_29=9) or (x_37=9) or (x_38=9) or (x_39=9))((x_41=1) or (x_42=1) or (x_43=1) or (x_51=1) or (x_52=1) or (x_53=1) or (x_61=1) or (x_62=1) or (x_63=1)) and ((x_41=2) or (x_42=2) or (x_43=2) or (x_51=2) or (x_52=2) or (x_53=2) or (x_61=2) or (x_62=2) or (x_63=2)) and ((x_41=3) or (x_42=3) or (x_43=3) or (x_51=3) or (x_52=3) or (x_53=3) or (x_61=3) or (x_62=3) or (x_63=3)) and ((x_41=4) or (x_42=4) or (x_43=4) or (x_51=4) or (x_52=4) or (x_53=4) or (x_61=4) or (x_62=4) or (x_63=4)) and ((x_41=5) or (x_42=5) or (x_43=5) or (x_51=5) or (x_52=5) or (x_53=5) or (x_61=5) or (x_62=5) or (x_63=5)) and ((x_41=6) or (x_42=6) or (x_43=6) or (x_51=6) or (x_52=6) or (x_53=6) or (x_61=6) or (x_62=6) or (x_63=6)) and ((x_41=7) or (x_42=7) or (x_43=7) or (x_51=7) or (x_52=7) or (x_53=7) or (x_61=7) or (x_62=7) or (x_63=7)) and ((x_41=8) or (x_42=8) or (x_43=8) or (x_51=8) or (x_52=8) or (x_53=8) or (x_61=8) or (x_62=8) or (x_63=8)) and ((x_41=9) or (x_42=9) or (x_43=9) or (x_51=9) or (x_52=9) or (x_53=9) or (x_61=9) or (x_62=9) or (x_63=9)) and ((x_44=1) or (x_45=1) or (x_46=1) or (x_54=1) or (x_55=1) or (x_56=1) or (x_64=1) or (x_65=1) or (x_66=1)) and ((x_44=2) or (x_45=2) or (x_46=2) or (x_54=2) or (x_55=2) or (x_56=2) or (x_64=2) or (x_65=2) or (x_66=2)) and ((x_44=3) or (x_45=3) or (x_46=3) or (x_54=3) or (x_55=3) or (x_56=3) or (x_64=3) or (x_65=3) or (x_66=3)) and ((x_44=4) or (x_45=4) or (x_46=4) or (x_54=4) or (x_55=4) or (x_56=4) or (x_64=4) or (x_65=4) or (x_66=4)) and ((x_44=5) or (x_45=5) or (x_46=5) or (x_54=5) or (x_55=5) or (x_56=5) or (x_64=5) or (x_65=5) or (x_66=5)) and ((x_44=6) or (x_45=6) or (x_46=6) or (x_54=6) or (x_55=6) or (x_56=6) or (x_64=6) or (x_65=6) or (x_66=6)) and ((x_44=7) or (x_45=7) or (x_46=7) or (x_54=7) or (x_55=7) or (x_56=7) or (x_64=7) or (x_65=7) or (x_66=7)) and ((x_44=8) or (x_45=8) or (x_46=8) or (x_54=8) or (x_55=8) or (x_56=8) or (x_64=8) or (x_65=8) or (x_66=8)) and ((x_44=9) or (x_45=9) or (x_46=9) or (x_54=9) or (x_55=9) or (x_56=9) or (x_64=9) or (x_65=9) or (x_66=9)) and ((x_47=1) or (x_48=1) or (x_49=1) or (x_57=1) or (x_58=1) or (x_59=1) or (x_67=1) or (x_68=1) or (x_69=1)) and ((x_47=2) or (x_48=2) or (x_49=2) or (x_57=2) or (x_58=2) or (x_59=2) or (x_67=2) or (x_68=2) or (x_69=2)) and ((x_47=3) or (x_48=3) or (x_49=3) or (x_57=3) or (x_58=3) or (x_59=3) or (x_67=3) or (x_68=3) or (x_69=3)) and ((x_47=4) or (x_48=4) or (x_49=4) or (x_57=4) or (x_58=4) or (x_59=4) or (x_67=4) or (x_68=4) or (x_69=4)) and ((x_47=5) or (x_48=5) or (x_49=5) or (x_57=5) or (x_58=5) or (x_59=5) or (x_67=5) or (x_68=5) or (x_69=5)) and ((x_47=6) or (x_48=6) or (x_49=6) or (x_57=6) or (x_58=6) or (x_59=6) or (x_67=6) or (x_68=6) or (x_69=6)) and ((x_47=7) or (x_48=7) or (x_49=7) or (x_57=7) or (x_58=7) or (x_59=7) or (x_67=7) or (x_68=7) or (x_69=7)) and ((x_47=8) or (x_48=8) or (x_49=8) or (x_57=8) or (x_58=8) or (x_59=8) or (x_67=8) or (x_68=8) or (x_69=8)) and ((x_47=9) or (x_48=9) or (x_49=9) or (x_57=9) or (x_58=9) or (x_59=9) or (x_67=9) or (x_68=9) or (x_69=9))((x_71=1) or (x_72=1) or (x_73=1) or (x_81=1) or (x_82=1) or (x_83=1) or (x_91=1) or (x_92=1) or (x_93=1)) and ((x_71=2) or (x_72=2) or (x_73=2) or (x_81=2) or (x_82=2) or (x_83=2) or (x_91=2) or (x_92=2) or (x_93=2)) and ((x_71=3) or (x_72=3) or (x_73=3) or (x_81=3) or (x_82=3) or (x_83=3) or (x_91=3) or (x_92=3) or (x_93=3)) and ((x_71=4) or (x_72=4) or (x_73=4) or (x_81=4) or (x_82=4) or (x_83=4) or (x_91=4) or (x_92=4) or (x_93=4)) and ((x_71=5) or (x_72=5) or (x_73=5) or (x_81=5) or (x_82=5) or (x_83=5) or (x_91=5) or (x_92=5) or (x_93=5)) and ((x_71=6) or (x_72=6) or (x_73=6) or (x_81=6) or (x_82=6) or (x_83=6) or (x_91=6) or (x_92=6) or (x_93=6)) and ((x_71=7) or (x_72=7) or (x_73=7) or (x_81=7) or (x_82=7) or (x_83=7) or (x_91=7) or (x_92=7) or (x_93=7)) and ((x_71=8) or (x_72=8) or (x_73=8) or (x_81=8) or (x_82=8) or (x_83=8) or (x_91=8) or (x_92=8) or (x_93=8)) and ((x_71=9) or (x_72=9) or (x_73=9) or (x_81=9) or (x_82=9) or (x_83=9) or (x_91=9) or (x_92=9) or (x_93=9))((x_74=1) or (x_75=1) or (x_76=1) or (x_84=1) or (x_85=1) or (x_86=1) or (x_94=1) or (x_95=1) or (x_96=1)) and ((x_74=2) or (x_75=2) or (x_76=2) or (x_84=2) or (x_85=2) or (x_86=2) or (x_94=2) or (x_95=2) or (x_96=2)) and ((x_74=3) or (x_75=3) or (x_76=3) or (x_84=3) or (x_85=3) or (x_86=3) or (x_94=3) or (x_95=3) or (x_96=3)) and ((x_74=4) or (x_75=4) or (x_76=4) or (x_84=4) or (x_85=4) or (x_86=4) or (x_94=4) or (x_95=4) or (x_96=4)) and ((x_74=5) or (x_75=5) or (x_76=5) or (x_84=5) or (x_85=5) or (x_86=5) or (x_94=5) or (x_95=5) or (x_96=5)) and ((x_74=6) or (x_75=6) or (x_76=6) or (x_84=6) or (x_85=6) or (x_86=6) or (x_94=6) or (x_95=6) or (x_96=6)) and ((x_74=7) or (x_75=7) or (x_76=7) or (x_84=7) or (x_85=7) or (x_86=7) or (x_94=7) or (x_95=7) or (x_96=7)) and ((x_74=8) or (x_75=8) or (x_76=8) or (x_84=8) or (x_85=8) or (x_86=8) or (x_94=8) or (x_95=8) or (x_96=8)) and ((x_74=9) or (x_75=9) or (x_76=9) or (x_84=9) or (x_85=9) or (x_86=9) or (x_94=9) or (x_95=9) or (x_96=9))((x_77=1) or (x_78=1) or (x_79=1) or (x_87=1) or (x_88=1) or (x_89=1) or (x_97=1) or (x_98=1) or (x_99=1)) and ((x_77=2) or (x_78=2) or (x_79=2) or (x_87=2) or (x_88=2) or (x_89=2) or (x_97=2) or (x_98=2) or (x_99=2)) and ((x_77=3) or (x_78=3) or (x_79=3) or (x_87=3) or (x_88=3) or (x_89=3) or (x_97=3) or (x_98=3) or (x_99=3)) and ((x_77=4) or (x_78=4) or (x_79=4) or (x_87=4) or (x_88=4) or (x_89=4) or (x_97=4) or (x_98=4) or (x_99=4)) and ((x_77=5) or (x_78=5) or (x_79=5) or (x_87=5) or (x_88=5) or (x_89=5) or (x_97=5) or (x_98=5) or (x_99=5)) and ((x_77=6) or (x_78=6) or (x_79=6) or (x_87=6) or (x_88=6) or (x_89=6) or (x_97=6) or (x_98=6) or (x_99=6)) and ((x_77=7) or (x_78=7) or (x_79=7) or (x_87=7) or (x_88=7) or (x_89=7) or (x_97=7) or (x_98=7) or (x_99=7)) and ((x_77=8) or (x_78=8) or (x_79=8) or (x_87=8) or (x_88=8) or (x_89=8) or (x_97=8) or (x_98=8) or (x_99=8)) and ((x_77=9) or (x_78=9) or (x_79=9) or (x_87=9) or (x_88=9) or (x_89=9) or (x_97=9) or (x_98=9) or (x_99=9)))'"
            ]
          },
          "metadata": {
            "tags": []
          },
          "execution_count": 15
        }
      ]
    },
    {
      "cell_type": "code",
      "metadata": {
        "id": "tIddaVrAlFKh",
        "colab_type": "code",
        "colab": {}
      },
      "source": [
        ""
      ],
      "execution_count": 0,
      "outputs": []
    }
  ]
}
